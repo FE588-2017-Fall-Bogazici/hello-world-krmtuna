{
 "cells": [
  {
   "cell_type": "code",
   "execution_count": 8,
   "metadata": {},
   "outputs": [
    {
     "name": "stdout",
     "output_type": "stream",
     "text": [
      "Call Price: 0.0\n",
      "Put Price: 12.825808469\n"
     ]
    }
   ],
   "source": [
    "#Lookback Option Pricing\n",
    " \n",
    "import numpy as np\n",
    "import math\n",
    " \n",
    "r = 0.05 #risk free\n",
    "s0 = 100               #price at zero\n",
    "K = 110                 #strike price\n",
    "sigma = 0.1         #sigma\n",
    "T=1                        #time\n",
    "N=100                 \n",
    "EPOCH=100       \n",
    " \n",
    "C=0                        #call\n",
    "P=0                        #put\n",
    "wt=0\n",
    "st=[]\n",
    " \n",
    "for i in range(EPOCH):\n",
    "    for i in range(N):\n",
    "        wt= np.random.randn()*np.sqrt(T/N)\n",
    "        st1 = s0* np.exp((r-1/2*sigma**2)*(T/N)+sigma*wt)\n",
    "        st.append(st1)\n",
    " \n",
    "    C += np.exp(-r*T)*max(0,(max(st)-K))\n",
    "    P += np.exp(-r*T)*max(0,(K-min(st)))\n",
    " \n",
    "CallPrice = C/EPOCH\n",
    "PutPrice = P/EPOCH\n",
    " \n",
    "print('Call Price:',CallPrice)\n",
    "print('Put Price:',PutPrice)"
   ]
  },
  {
   "cell_type": "code",
   "execution_count": 6,
   "metadata": {},
   "outputs": [
    {
     "name": "stdout",
     "output_type": "stream",
     "text": [
      "Call Price: 3.23656246371\n",
      "Put Price: 3.59584406595\n"
     ]
    }
   ],
   "source": [
    "#Floating Lookback Option Pricing\n",
    " \n",
    "import numpy as np\n",
    " \n",
    "r = 0.05 #risk free\n",
    "s0 = 100               #price at zero\n",
    "K = 110                 #Strike Price\n",
    "sigma = 0.1         #sigma\n",
    "T=1                        #time\n",
    "N=100                 \n",
    "EPOCH=100       \n",
    " \n",
    "C=0                        #call\n",
    "P=0                        #put\n",
    "wt=0\n",
    "st=0\n",
    "st=[]                      #st array\n",
    " \n",
    "for i in range(EPOCH):                   # loop EPOCH many times\n",
    "    for i in range(N):                         # loop N many times\n",
    "        wt= np.random.randn()*np.sqrt(T/N)\n",
    "        st1 = s0* np.exp((r-1/2*sigma**2)*(T/N)+sigma*wt)\n",
    "        st.append(st1)\n",
    " \n",
    "    C += np.exp(-r*T)*max(0,(st1-min(st)))\n",
    "    P += np.exp(-r*T)*max(0,(max(st)-st1))\n",
    " \n",
    "CallPrice = C/EPOCH\n",
    "PutPrice = P/EPOCH\n",
    " \n",
    "print('Call Price:',CallPrice)\n",
    "print('Put Price:',PutPrice)\n"
   ]
  }
 ],
 "metadata": {
  "kernelspec": {
   "display_name": "Python 3",
   "language": "python",
   "name": "python3"
  },
  "language_info": {
   "codemirror_mode": {
    "name": "ipython",
    "version": 3
   },
   "file_extension": ".py",
   "mimetype": "text/x-python",
   "name": "python",
   "nbconvert_exporter": "python",
   "pygments_lexer": "ipython3",
   "version": "3.6.2"
  }
 },
 "nbformat": 4,
 "nbformat_minor": 2
}
