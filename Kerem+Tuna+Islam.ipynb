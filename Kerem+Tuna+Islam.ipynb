{
 "cells": [
  {
   "cell_type": "code",
   "execution_count": 4,
   "metadata": {
    "scrolled": true
   },
   "outputs": [
    {
     "name": "stdout",
     "output_type": "stream",
     "text": [
      "Kerem Tuna Islam\n"
     ]
    }
   ],
   "source": [
    "print(\"Kerem Tuna Islam\")"
   ]
  },
  {
   "cell_type": "code",
   "execution_count": 6,
   "metadata": {},
   "outputs": [
    {
     "name": "stdout",
     "output_type": "stream",
     "text": [
      "-3.69\n",
      "-3.36\n",
      "-3.01\n",
      "-2.6399999999999997\n",
      "-2.25\n",
      "-1.8400000000000003\n",
      "-1.4100000000000006\n",
      "-0.96\n",
      "-0.4900000000000002\n",
      "-8.881784197001252e-16\n"
     ]
    }
   ],
   "source": [
    "x = 0.1\n",
    "for i in range (1,11):\n",
    "    print(x**2+x*3-4)\n",
    "    x=x+0.1"
   ]
  },
  {
   "cell_type": "code",
   "execution_count": null,
   "metadata": {
    "collapsed": true
   },
   "outputs": [],
   "source": []
  },
  {
   "cell_type": "code",
   "execution_count": null,
   "metadata": {
    "collapsed": true
   },
   "outputs": [],
   "source": []
  }
 ],
 "metadata": {
  "kernelspec": {
   "display_name": "Python 3",
   "language": "python",
   "name": "python3"
  },
  "language_info": {
   "codemirror_mode": {
    "name": "ipython",
    "version": 3
   },
   "file_extension": ".py",
   "mimetype": "text/x-python",
   "name": "python",
   "nbconvert_exporter": "python",
   "pygments_lexer": "ipython3",
   "version": "3.6.2"
  }
 },
 "nbformat": 4,
 "nbformat_minor": 2
}
